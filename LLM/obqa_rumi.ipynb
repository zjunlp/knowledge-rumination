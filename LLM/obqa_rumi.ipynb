{
 "cells": [
  {
   "cell_type": "code",
   "execution_count": 1,
   "metadata": {},
   "outputs": [],
   "source": [
    "import openai\n",
    "import re\n",
    "import time\n",
    "import json\n",
    "\n",
    "import numpy as np\n",
    "import os\n",
    "from tqdm import tqdm\n",
    "from pprint import pprint\n",
    "from tenacity import retry, stop_after_attempt, wait_chain, wait_fixed"
   ]
  },
  {
   "cell_type": "code",
   "execution_count": 3,
   "metadata": {},
   "outputs": [],
   "source": [
    "@retry(wait=wait_chain(*[wait_fixed(3) for i in range(3)] +\n",
    "                       [wait_fixed(5) for i in range(2)] +\n",
    "                       [wait_fixed(10)]))\n",
    "def completion_with_backoff(**kwargs):\n",
    "    return openai.Completion.create(**kwargs)"
   ]
  },
  {
   "cell_type": "code",
   "execution_count": 4,
   "metadata": {},
   "outputs": [
    {
     "name": "stdout",
     "output_type": "stream",
     "text": [
      "len csqa-dev: 500\n",
      "dict_keys(['id', 'question', 'answerKey', 'knowledges'])\n",
      "[{'text': 'make more phone calls', 'label': 'A'}, {'text': 'quit eating lunch out', 'label': 'B'}, {'text': 'buy less with monopoly money', 'label': 'C'}, {'text': 'have lunch with friends', 'label': 'D'}]\n"
     ]
    }
   ],
   "source": [
    "f = open(\"./obqa_test_gpt3_knowledge.jsonl\", \"r\")\n",
    "obqa_test = [json.loads(line.strip()) for line in f.readlines()]\n",
    "print(\"len csqa-dev:\", len(obqa_test))\n",
    "print(obqa_test[0].keys())\n",
    "print(obqa_test[0][\"question\"][\"choices\"])"
   ]
  },
  {
   "cell_type": "code",
   "execution_count": null,
   "metadata": {},
   "outputs": [],
   "source": [
    "prompt_original_direct = open('prompt_original_direct.txt').read()\n",
    "print(prompt_original_direct)"
   ]
  },
  {
   "cell_type": "code",
   "execution_count": null,
   "metadata": {},
   "outputs": [],
   "source": [
    "import time\n",
    "davinci_response_list = [] \n",
    "acc = 0\n",
    "total = 0\n",
    "answer_id = [\"a\", \"b\", \"c\", \"d\"]\n",
    "for mention_idx, mention in tqdm(enumerate(obqa_test), total=len(obqa_test)):\n",
    "    answer_gold = mention[\"answerKey\"].lower()\n",
    "    # answer = mention[\"answerKey\"]\n",
    "    prompt_q  = prompt_original_direct + \"\\nQ: \" + mention[\"question\"][\"stem\"] + \"\\n\"\n",
    "    prompt_q += \"Answer Choices:\\n\"\n",
    "    for idx, c in enumerate(mention[\"question\"][\"choices\"]):\n",
    "        prompt_q += '(%c) %s\\n' % (answer_id[idx], c[\"text\"])\n",
    "    prompt_q += \"The answer is \"\n",
    "#     break\n",
    "    while True:\n",
    "        try:\n",
    "            response = completion_with_backoff(model=\"davinci\", \n",
    "                                                prompt=prompt_q, \n",
    "                                                temperature=0, \n",
    "                                                max_tokens=5,\n",
    "                                            )\n",
    "            break\n",
    "        except:\n",
    "            time.sleep(3)\n",
    "    davinci_response_list.append(response)\n",
    "    answer_pred = response[\"choices\"][0][\"text\"].strip().split(\"(\")\n",
    "    answer_pred = answer_pred[1][0] if len(answer_pred) > 1 else \"a\"\n",
    "    acc += 1 if answer_pred == answer_gold else 0\n",
    "    total += 1\n",
    "    if total%50 ==0:\n",
    "        print('Total %d correct %d acc %.4f' % (total , acc , acc / total))\n",
    "#         print(\"gold:\", answer_gold)\n",
    "#         print(\"pred:\", answer_pred)\n",
    "#         print(\"acc:\", acc)\n",
    "#         print(\"total:\", total)\n",
    "#         print(prompt_q)\n",
    "#         print(response)\n",
    "#         break\n",
    "\n",
    "print('Total %d correct %d acc %.4f' % (total , acc , acc / total))\n",
    "\n",
    "# Total 1221 correct 547 acc 0.4480"
   ]
  },
  {
   "cell_type": "code",
   "execution_count": null,
   "metadata": {},
   "outputs": [],
   "source": [
    "prompt_original_with_knowledge_before = open('prompt_original_with_knowledge copy.txt').read()\n",
    "print(prompt_original_with_knowledge_before)"
   ]
  },
  {
   "cell_type": "code",
   "execution_count": null,
   "metadata": {},
   "outputs": [],
   "source": [
    "import time\n",
    "davinci_response_list = [] \n",
    "acc = 0\n",
    "total = 0\n",
    "answer_id = [\"a\", \"b\", \"c\", \"d\"]\n",
    "for mention_idx, mention in tqdm(enumerate(obqa_test), total=len(obqa_test)):\n",
    "    answer_gold = mention[\"answerKey\"].lower()\n",
    "    Know = mention[\"knowledges\"][0]\n",
    "    # answer = mention[\"answerKey\"]\n",
    "    prompt_q  = prompt_original_with_knowledge_before + f\"\\n{Know}\\n Q: \" + mention[\"question\"][\"stem\"] + \"\\n\"\n",
    "    prompt_q += \"Answer Choices:\\n\"\n",
    "    for idx, c in enumerate(mention[\"question\"][\"choices\"]):\n",
    "        prompt_q += '(%c) %s\\n' % (answer_id[idx], c[\"text\"])\n",
    "    prompt_q += \"The answer is \"\n",
    "    # prompt_q += \"A:\"\n",
    "#     break\n",
    "    while True:\n",
    "        try:\n",
    "            response = completion_with_backoff(model=\"davinci\", \n",
    "                                                prompt=prompt_q, \n",
    "                                                temperature=0, \n",
    "                                                max_tokens=5,\n",
    "                                            )\n",
    "            break\n",
    "        except:\n",
    "            time.sleep(3)\n",
    "    davinci_response_list.append(response)\n",
    "    answer_pred = response[\"choices\"][0][\"text\"].strip().split(\"(\")\n",
    "    answer_pred = answer_pred[1][0] if len(answer_pred) > 1 else \"a\"\n",
    "    acc += 1 if answer_pred == answer_gold else 0\n",
    "    total += 1\n",
    "    if total%50 ==0:\n",
    "        print('Total %d correct %d acc %.4f' % (total , acc , acc / total))\n",
    "#         print(\"gold:\", answer_gold)\n",
    "#         print(\"pred:\", answer_pred)\n",
    "#         print(\"acc:\", acc)\n",
    "#         print(\"total:\", total)\n",
    "#         print(prompt_q)\n",
    "#         print(response)\n",
    "#         break\n",
    "\n",
    "print('Total %d correct %d acc %.4f' % (total , acc , acc / total))\n",
    "\n",
    "# Total 1221 correct 547 acc 0.4480"
   ]
  },
  {
   "cell_type": "code",
   "execution_count": null,
   "metadata": {},
   "outputs": [],
   "source": [
    "prompt_original_simple_instruct = open('prompt_original_simple_instruct.txt').read()\n",
    "print(prompt_original_simple_instruct)"
   ]
  },
  {
   "cell_type": "code",
   "execution_count": null,
   "metadata": {},
   "outputs": [],
   "source": [
    "import time\n",
    "davinci_response_list = [] \n",
    "acc = 0\n",
    "total = 0\n",
    "answer_id = [\"a\", \"b\", \"c\", \"d\"]\n",
    "for mention_idx, mention in tqdm(enumerate(obqa_test), total=len(obqa_test)):\n",
    "    answer_gold = mention[\"answerKey\"].lower()\n",
    "    # answer = mention[\"answerKey\"]\n",
    "    prompt_q  = prompt_original_simple_instruct + \"\\nQ: \" + mention[\"question\"][\"stem\"] + \"\\n\"\n",
    "    prompt_q += \"Answer Choices:\\n\"\n",
    "    for idx, c in enumerate(mention[\"question\"][\"choices\"]):\n",
    "        prompt_q += '(%c) %s\\n' % (answer_id[idx], c[\"text\"])\n",
    "    # prompt_q += \"The answer is \"\n",
    "    prompt_q += \"A:\"\n",
    "    # print(prompt_q)\n",
    "#     break\n",
    "    while True:\n",
    "        try:\n",
    "            response = completion_with_backoff(model=\"davinci\", \n",
    "                                                prompt=prompt_q, \n",
    "                                                temperature=0, \n",
    "                                                max_tokens=80,\n",
    "                                            )\n",
    "            break\n",
    "        except:\n",
    "            time.sleep(3)\n",
    "    davinci_response_list.append(response)\n",
    "    answer_pred = response[\"choices\"][0][\"text\"].strip().split(\"(\")\n",
    "    answer_pred = answer_pred[1][0] if len(answer_pred) > 1 else \"a\"\n",
    "    acc += 1 if answer_pred == answer_gold else 0\n",
    "    total += 1\n",
    "    if total%50 ==0:\n",
    "        print('Total %d correct %d acc %.4f' % (total , acc , acc / total))\n",
    "#         print(\"gold:\", answer_gold)\n",
    "#         print(\"pred:\", answer_pred)\n",
    "#         print(\"acc:\", acc)\n",
    "#         print(\"total:\", total)\n",
    "#         print(prompt_q)\n",
    "#         print(response)\n",
    "#         break\n",
    "\n",
    "print('Total %d correct %d acc %.4f' % (total , acc , acc / total))\n",
    "\n",
    "# Total 1221 correct 547 acc 0.4480"
   ]
  },
  {
   "cell_type": "code",
   "execution_count": null,
   "metadata": {},
   "outputs": [],
   "source": [
    "prompt_original = open('prompt_original.txt').read()\n",
    "print(prompt_original)"
   ]
  },
  {
   "cell_type": "code",
   "execution_count": null,
   "metadata": {},
   "outputs": [],
   "source": [
    "import time\n",
    "davinci_response_list = [] \n",
    "acc = 0\n",
    "total = 0\n",
    "answer_id = [\"a\", \"b\", \"c\", \"d\"]\n",
    "for mention_idx, mention in tqdm(enumerate(obqa_test), total=len(obqa_test)):\n",
    "    answer_gold = mention[\"answerKey\"].lower()\n",
    "    # answer = mention[\"answerKey\"]\n",
    "    prompt_q  = prompt_original + \"\\nQ: \" + mention[\"question\"][\"stem\"] + \"\\n\"\n",
    "    prompt_q += \"Answer Choices:\\n\"\n",
    "    for idx, c in enumerate(mention[\"question\"][\"choices\"]):\n",
    "        prompt_q += '(%c) %s\\n' % (answer_id[idx], c[\"text\"])\n",
    "    # prompt_q += \"The answer is \"\n",
    "    prompt_q += \"A:\"\n",
    "#     break\n",
    "    while True:\n",
    "        try:\n",
    "            response = completion_with_backoff(model=\"davinci\", \n",
    "                                                prompt=prompt_q, \n",
    "                                                temperature=0, \n",
    "                                                max_tokens=80,\n",
    "                                            )\n",
    "            break\n",
    "        except:\n",
    "            time.sleep(3)\n",
    "    davinci_response_list.append(response)\n",
    "    answer_pred = response[\"choices\"][0][\"text\"].strip().split(\"(\")\n",
    "    answer_pred = answer_pred[1][0] if len(answer_pred) > 1 else \"a\"\n",
    "    acc += 1 if answer_pred == answer_gold else 0\n",
    "    total += 1\n",
    "    if total%50 ==0:\n",
    "        print('Total %d correct %d acc %.4f' % (total , acc , acc / total))"
   ]
  },
  {
   "cell_type": "code",
   "execution_count": null,
   "metadata": {},
   "outputs": [],
   "source": []
  },
  {
   "cell_type": "code",
   "execution_count": null,
   "metadata": {},
   "outputs": [],
   "source": []
  }
 ],
 "metadata": {
  "kernelspec": {
   "display_name": "T-Patcher",
   "language": "python",
   "name": "python3"
  },
  "language_info": {
   "codemirror_mode": {
    "name": "ipython",
    "version": 3
   },
   "file_extension": ".py",
   "mimetype": "text/x-python",
   "name": "python",
   "nbconvert_exporter": "python",
   "pygments_lexer": "ipython3",
   "version": "3.7.4"
  },
  "orig_nbformat": 4
 },
 "nbformat": 4,
 "nbformat_minor": 2
}
