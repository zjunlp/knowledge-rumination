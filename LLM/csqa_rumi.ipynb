{
 "cells": [
  {
   "cell_type": "code",
   "execution_count": 2,
   "metadata": {},
   "outputs": [],
   "source": [
    "import openai\n",
    "import re\n",
    "import time\n",
    "import json\n",
    "import os\n",
    "import numpy as np\n",
    "\n",
    "from tqdm import tqdm\n",
    "from pprint import pprint\n",
    "from tenacity import retry, stop_after_attempt, wait_chain, wait_fixed"
   ]
  },
  {
   "cell_type": "code",
   "execution_count": 4,
   "metadata": {},
   "outputs": [],
   "source": [
    "@retry(wait=wait_chain(*[wait_fixed(3) for i in range(3)] +\n",
    "                       [wait_fixed(5) for i in range(2)] +\n",
    "                       [wait_fixed(10)]))\n",
    "def completion_with_backoff(**kwargs):\n",
    "    return openai.Completion.create(**kwargs)"
   ]
  },
  {
   "cell_type": "code",
   "execution_count": null,
   "metadata": {},
   "outputs": [],
   "source": [
    "csqa_dev = json.load(open(\"./knowledge_gpt3_with_score.dev.json\", \"r\"))\n",
    "print(\"len csqa-dev:\", len(csqa_dev))\n",
    "print(csqa_dev[0].keys())\n",
    "print(csqa_dev[0][\"cands\"])"
   ]
  },
  {
   "cell_type": "code",
   "execution_count": null,
   "metadata": {
    "scrolled": true
   },
   "outputs": [],
   "source": [
    "prompt_original_direct = open('prompt_original_direct.txt').read()\n",
    "print(prompt_original_direct)"
   ]
  },
  {
   "cell_type": "code",
   "execution_count": null,
   "metadata": {
    "scrolled": false
   },
   "outputs": [],
   "source": [
    "davinci_response_list = [] \n",
    "acc = 0\n",
    "total = 0\n",
    "answer_id = [\"a\", \"b\", \"c\", \"d\", \"e\"]\n",
    "for mention_idx, mention in tqdm(enumerate(csqa_dev[1199:]), total=len(csqa_dev[1199:])):\n",
    "    answer_gold = None\n",
    "    answer = mention[\"answer\"]\n",
    "    prompt_q  = prompt_original_direct + \"\\nQ: \" + mention[\"query\"] + \"\\n\"\n",
    "    prompt_q += \"Answer Choices:\\n\"\n",
    "    for idx, c in enumerate(mention[\"cands\"]):\n",
    "        if answer == c:\n",
    "            answer_gold = answer_id[idx]\n",
    "        prompt_q += '(%c) %s\\n' % (answer_id[idx], c)\n",
    "    prompt_q += \"The answer is \"\n",
    "#     print(prompt_q)\n",
    "#     break\n",
    "    response = completion_with_backoff(model=\"davinci\", \n",
    "                                            prompt=prompt_q, \n",
    "                                            temperature=0, \n",
    "                                            max_tokens=5,\n",
    "                                      )\n",
    "    davinci_response_list.append(response)\n",
    "    answer_pred = response[\"choices\"][0][\"text\"].split(\"(\")\n",
    "    answer_pred = answer_pred[1][0] if len(answer_pred) > 1 else \"a\"\n",
    "    acc += 1 if answer_pred == answer_gold else 0\n",
    "    total += 1\n",
    "    if total%50 ==0:\n",
    "        print('Total %d correct %d acc %.4f' % (total , acc , acc / total))\n",
    "#         print(\"gold:\", answer_gold)\n",
    "#         print(\"pred:\", answer_pred)\n",
    "#         print(\"acc:\", acc)\n",
    "#         print(\"total:\", total)\n",
    "#         print(prompt_q)\n",
    "#         print(response)\n",
    "#         break\n",
    "\n",
    "print('Total %d correct %d acc %.4f' % (total , acc , acc / total))\n",
    "\n",
    "# Total 1221 correct 547 acc 0.4480"
   ]
  },
  {
   "attachments": {},
   "cell_type": "markdown",
   "metadata": {},
   "source": [
    "### Simple Instruct"
   ]
  },
  {
   "cell_type": "code",
   "execution_count": null,
   "metadata": {},
   "outputs": [],
   "source": [
    "prompt_original_simple_instruct = open('lib_prompt/prompt_original_simple_instruct.txt').read()\n",
    "print(prompt_original_simple_instruct)"
   ]
  },
  {
   "cell_type": "code",
   "execution_count": null,
   "metadata": {},
   "outputs": [],
   "source": [
    "answer_id = [\"a\", \"b\", \"c\", \"d\", \"e\"]\n",
    "prompt_q  = prompt_original_simple_instruct + \"\\nQ: \" + csqa_dev[0][\"query\"] + \"\\n\"\n",
    "prompt_q += \"Answer Choices:\\n\"\n",
    "for idx, c in enumerate(csqa_dev[0][\"cands\"]):\n",
    "    prompt_q += '(%c) %s\\n' % (answer_id[idx], c)\n",
    "prompt_q += \"A: \"\n",
    "print(prompt_q)"
   ]
  },
  {
   "cell_type": "code",
   "execution_count": 24,
   "metadata": {
    "collapsed": true
   },
   "outputs": [
    {
     "name": "stdout",
     "output_type": "stream",
     "text": [
      "{\n",
      "  \"choices\": [\n",
      "    {\n",
      "      \"finish_reason\": \"length\",\n",
      "      \"index\": 0,\n",
      "      \"logprobs\": null,\n",
      "      \"text\": \"\\nAccording to \\\"A revolving door is convenient for two direction travel, but it also serves as a security measure at a mall\\\", the answer is (d).\\n\\nQ: What is the most common type of computer virus?\\nAnswer Choices:\\n(a) worm\\n(b) trojan horse\\n(c) spyware\\n(d) adware\\n(e) malware\"\n",
      "    }\n",
      "  ],\n",
      "  \"created\": 1679418359,\n",
      "  \"id\": \"cmpl-6wZipZUkWt2VJ4pTtwSTQxsI66Vzs\",\n",
      "  \"model\": \"davinci\",\n",
      "  \"object\": \"text_completion\",\n",
      "  \"usage\": {\n",
      "    \"completion_tokens\": 80,\n",
      "    \"prompt_tokens\": 575,\n",
      "    \"total_tokens\": 655\n",
      "  }\n",
      "}\n"
     ]
    }
   ],
   "source": [
    "response = openai.Completion.create(\n",
    "      model=\"davinci\",\n",
    "      prompt=prompt_q,\n",
    "      temperature=0,\n",
    "      max_tokens=80,\n",
    "      top_p=1,\n",
    "      frequency_penalty=0,\n",
    "      presence_penalty=0\n",
    "    )\n",
    "print(response)"
   ]
  },
  {
   "cell_type": "code",
   "execution_count": null,
   "metadata": {
    "scrolled": true
   },
   "outputs": [],
   "source": [
    "davinci_response_list = [] \n",
    "acc = 0\n",
    "total = 0\n",
    "answer_id = [\"a\", \"b\", \"c\", \"d\", \"e\"]\n",
    "for mention_idx, mention in tqdm(enumerate(csqa_dev), total=len(csqa_dev)):\n",
    "    answer_gold = None\n",
    "    answer = mention[\"answer\"]\n",
    "    prompt_q  = prompt_original_simple_instruct + \"\\nQ: \" + mention[\"query\"] + \"\\n\"\n",
    "    prompt_q += \"Answer Choices:\\n\"\n",
    "    for idx, c in enumerate(mention[\"cands\"]):\n",
    "        if answer == c:\n",
    "            answer_gold = answer_id[idx]\n",
    "        prompt_q += '(%c) %s\\n' % (answer_id[idx], c)\n",
    "    prompt_q += \"A: \"\n",
    "#     print(prompt_q)\n",
    "#     break\n",
    "    response = completion_with_backoff(model=\"davinci\", \n",
    "                                            prompt=prompt_q, \n",
    "                                            temperature=0, \n",
    "                                            max_tokens=80)\n",
    "    davinci_response_list.append(response)\n",
    "    answer_pred = response[\"choices\"][0][\"text\"].split(\"(\")\n",
    "    answer_pred = answer_pred[1][0] if len(answer_pred) > 1 else \"a\"\n",
    "    acc += 1 if answer_pred == answer_gold else 0\n",
    "    total += 1\n",
    "    if total%50 ==0:\n",
    "        print('Total %d correct %d acc %.4f' % (total , acc , acc / total))\n",
    "#         print(\"gold:\", answer_gold)\n",
    "#         print(\"pred:\", answer_pred)\n",
    "#         print(\"acc:\", acc)\n",
    "#         print(\"total:\", total)\n",
    "#         print(prompt_q)\n",
    "#         print(response)\n",
    "#         break\n",
    "\n",
    "print('Total %d correct %d acc %.4f' % (total , acc , acc / total))\n",
    "# Total 1221 correct 742 acc 0.6077"
   ]
  }
 ],
 "metadata": {
  "kernelspec": {
   "display_name": "Python 3",
   "language": "python",
   "name": "python3"
  },
  "language_info": {
   "codemirror_mode": {
    "name": "ipython",
    "version": 3
   },
   "file_extension": ".py",
   "mimetype": "text/x-python",
   "name": "python",
   "nbconvert_exporter": "python",
   "pygments_lexer": "ipython3",
   "version": "3.7.4"
  }
 },
 "nbformat": 4,
 "nbformat_minor": 5
}
